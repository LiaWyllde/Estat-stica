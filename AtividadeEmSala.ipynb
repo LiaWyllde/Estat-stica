{
  "nbformat": 4,
  "nbformat_minor": 0,
  "metadata": {
    "colab": {
      "provenance": []
    },
    "kernelspec": {
      "name": "python3",
      "display_name": "Python 3"
    },
    "language_info": {
      "name": "python"
    }
  },
  "cells": [
    {
      "cell_type": "code",
      "execution_count": 58,
      "metadata": {
        "id": "ZXIFcvocaoMJ"
      },
      "outputs": [],
      "source": [
        "import numpy as np\n",
        "import pandas as pd\n",
        "from collections import Counter\n",
        "\n",
        "import warnings\n",
        "warnings.filterwarnings('ignore')\n",
        "\n",
        "from scipy.stats import binom\n"
      ]
    },
    {
      "cell_type": "code",
      "source": [
        "# Questão 1\n",
        "\n",
        "dados = pd.read_csv('/content/drive/MyDrive/Estatística Aplicada/heart.csv', sep=',', encoding='iso-8859-1')\n",
        "\n",
        "print(f'A quantidade total de registros é: {len(dados)}')\n"
      ],
      "metadata": {
        "colab": {
          "base_uri": "https://localhost:8080/"
        },
        "id": "CPihLks6e_uB",
        "outputId": "f11248d4-9ff9-4bc9-f3f9-4fd45c127667"
      },
      "execution_count": 57,
      "outputs": [
        {
          "output_type": "stream",
          "name": "stdout",
          "text": [
            "A quantidade total de registros é: 918\n"
          ]
        }
      ]
    },
    {
      "cell_type": "code",
      "source": [
        "# Questão 2\n",
        "\n",
        "mediaIdade = dados['Age'].mean()\n",
        "print (f' Media das idades: {mediaIdade:.2f}')\n",
        "\n",
        "medianaIdade = dados['Age'].median()\n",
        "print (f\" Mediana das idades: {medianaIdade:.2f}\")\n",
        "\n",
        "modaIdade = Counter(dados['Age']).most_common(1)\n",
        "print (f\" Moda das idades: {modaIdade}\")\n",
        "\n",
        "desvioPadraoIdade = dados['Age'].std()\n",
        "print (f\" Desvio padrão: {desvioPadraoIdade:.2f}\")\n",
        "\n",
        "varianciaIdade = dados['Age'].var()\n",
        "print (f\" Variância das idades: {varianciaIdade:.2f}\")\n"
      ],
      "metadata": {
        "colab": {
          "base_uri": "https://localhost:8080/"
        },
        "id": "DtLbGRf9fnaE",
        "outputId": "ac8643a7-5236-48bb-98b1-36a6103239d4"
      },
      "execution_count": 71,
      "outputs": [
        {
          "output_type": "stream",
          "name": "stdout",
          "text": [
            " Media das idades: 53.51\n",
            " Mediana das idades: 54.00\n",
            " Moda das idades: [(54, 51)]\n",
            " Desvio padrão: 9.43\n",
            " Variância das idades: 88.97\n"
          ]
        }
      ]
    },
    {
      "cell_type": "code",
      "source": [
        "# Questão 3\n",
        "\n",
        "from matplotlib import pyplot as plt\n",
        "import seaborn as sns\n",
        "\n",
        "sns.histplot(dados['Age'], kde=True)\n"
      ],
      "metadata": {
        "colab": {
          "base_uri": "https://localhost:8080/",
          "height": 466
        },
        "id": "9-iXF5IKhMHV",
        "outputId": "e74863fa-51e0-4349-f964-f94c4e9a4343"
      },
      "execution_count": 23,
      "outputs": [
        {
          "output_type": "execute_result",
          "data": {
            "text/plain": [
              "<Axes: xlabel='Age', ylabel='Count'>"
            ]
          },
          "metadata": {},
          "execution_count": 23
        },
        {
          "output_type": "display_data",
          "data": {
            "text/plain": [
              "<Figure size 640x480 with 1 Axes>"
            ],
            "image/png": "[encoded data removed]"
          },
          "metadata": {}
        }
      ]
    },
    {
      "cell_type": "markdown",
      "source": [
        "\n",
        "\n",
        "```\n",
        "# Questão 4\n",
        "\n",
        "Sim, por se tratarem de valores próximos, há a representação adequada da centralidade dos dados\n",
        "```\n",
        "\n"
      ],
      "metadata": {
        "id": "q9kCuLc7k2d3"
      }
    },
    {
      "cell_type": "code",
      "source": [
        "# Questão 5\n",
        "\n",
        "sexoParticipantes = dados['Sex'].value_counts()\n",
        "print(f'Quantidade de participantes por sexo: \\n{sexoParticipantes}')\n",
        "\n",
        "feminino = (sexoParticipantes[0]/len(dados))*100\n",
        "masculino = (sexoParticipantes[1]/len(dados))*100\n",
        "\n",
        "print(f'\\nPorcentagem de participantes por sexo: \\nFeminino: {feminino:.2f}%\\nMasculino: {masculino:.2f}% \\n')\n"
      ],
      "metadata": {
        "colab": {
          "base_uri": "https://localhost:8080/"
        },
        "id": "0B1y-BM0lYKn",
        "outputId": "f0eb2cb3-9839-4a06-ee2b-11d4ba0e7141"
      },
      "execution_count": 34,
      "outputs": [
        {
          "output_type": "stream",
          "name": "stdout",
          "text": [
            "Quantidade de participantes por sexo: \n",
            "Sex\n",
            "M    725\n",
            "F    193\n",
            "Name: count, dtype: int64\n",
            "\n",
            "Porcentagem de participantes por sexo: \n",
            "Feminino: 78.98%\n",
            "Masculino: 21.02% \n",
            "\n"
          ]
        }
      ]
    },
    {
      "cell_type": "code",
      "source": [
        "\n",
        "# Questão 6\n",
        "\n",
        "#Colesterol\n",
        "\n",
        "maxColesterol = dados['Cholesterol'].max()\n",
        "minColesterol = dados['Cholesterol'].min()\n",
        "\n",
        "print(f'O valor máximo de colesterol é: {maxColesterol}')\n",
        "print(f'O valor mínimo de colesterol é: {minColesterol}')\n",
        "\n",
        "\n",
        "#Quartis\n",
        "\n",
        "qColesterol = dados['Cholesterol'].quantile([0.25, 0.5, 0.75])\n",
        "print(f'\\nOs quartis de colesterol são: \\nQ1: {qColesterol[0.25]}\\nQ2: {qColesterol[0.5]}\\nQ3: {qColesterol[0.75]}')\n",
        "\n",
        "sns.boxplot(dados['Cholesterol'])"
      ],
      "metadata": {
        "colab": {
          "base_uri": "https://localhost:8080/",
          "height": 550
        },
        "id": "88tNy76wnNUG",
        "outputId": "fb87905c-b8c8-478e-cc10-8599a49a54e9"
      },
      "execution_count": 36,
      "outputs": [
        {
          "output_type": "stream",
          "name": "stdout",
          "text": [
            "O valor máximo de colesterol é: 603\n",
            "O valor mínimo de colesterol é: 0\n",
            "\n",
            "Os quartis de colesterol são: \n",
            "Q1: 173.25\n",
            "Q2: 223.0\n",
            "Q3: 267.0\n"
          ]
        },
        {
          "output_type": "execute_result",
          "data": {
            "text/plain": [
              "<Axes: ylabel='Cholesterol'>"
            ]
          },
          "metadata": {},
          "execution_count": 36
        },
        {
          "output_type": "display_data",
          "data": {
            "text/plain": [
              "<Figure size 640x480 with 1 Axes>"
            ],
            "image/png": "[encoded data removed]"
          },
          "metadata": {}
        }
      ]
    },
    {
      "cell_type": "markdown",
      "source": [
        "\n",
        "\n",
        "```\n",
        "# Questão 7\n",
        "\n",
        "Sim, a variável possui outliers e, no caso do estudo, podem indicar um paciente que necessita de acompanhamento qualificado. O valor deve ser mantido para indicar a incidência desse tipo de caso.\n",
        "```\n",
        "\n"
      ],
      "metadata": {
        "id": "C_0fOdQgoa8P"
      }
    },
    {
      "cell_type": "code",
      "source": [
        "# Questão 8\n",
        "\n",
        "selecao = dados[(dados['Sex'] == 'F') & (dados ['Age'] < 35)]\n",
        "\n",
        "probabilidade = len(selecao)/len(dados)\n",
        "\n",
        "print(f\"A probabilidade de sortear é: {probabilidade}\")\n",
        "print(f\"A arredondando: {probabilidade:.3f}\")"
      ],
      "metadata": {
        "colab": {
          "base_uri": "https://localhost:8080/"
        },
        "id": "MsiZH8mipS1-",
        "outputId": "2e50b592-c28b-4e02-8e4d-8e35c34c1df9"
      },
      "execution_count": 51,
      "outputs": [
        {
          "output_type": "stream",
          "name": "stdout",
          "text": [
            "A probabilidade de sortear é: 0.006535947712418301\n",
            "A arredondando: 0.007\n"
          ]
        }
      ]
    },
    {
      "cell_type": "code",
      "source": [
        "# Questão 9\n",
        "\n",
        "selecao2 = dados[(dados ['Age'] >= 20) & (dados ['Age'] <=  35)]\n",
        "\n",
        "probabilidade2 = len(selecao2)/len(dados)\n",
        "\n",
        "print(f\"A probabilidade de sortear é: {probabilidade2}\")\n",
        "print(f\"A arredondando: {probabilidade2:.3f}\")\n"
      ],
      "metadata": {
        "colab": {
          "base_uri": "https://localhost:8080/"
        },
        "id": "RboisfEgruXM",
        "outputId": "790aa041-47ba-47e5-d7ee-301e2ae2938a"
      },
      "execution_count": 70,
      "outputs": [
        {
          "output_type": "stream",
          "name": "stdout",
          "text": [
            "A probabilidade de sortear é: 0.034858387799564274\n",
            "A arredondando: 0.035\n"
          ]
        }
      ]
    },
    {
      "cell_type": "code",
      "source": [
        "# Questão 10\n",
        "\n",
        "probabilidadeDoenca = dados.HeartDisease.value_counts(normalize=True)[1]\n",
        "\n",
        "sorteios = 20\n",
        "quantidade = 8\n",
        "\n",
        "probabilidadeD = (binom.cdf(quantidade, sorteios, probabilidadeDoenca))\n",
        "\n",
        "print(f\"A probabilidade de saírem até 8 pessoas com doença cardíaca em 20 sorteios é: {probabilidadeD}\")\n",
        "print(f\"A arredondando: {probabilidadeD:.3f}\")\n",
        "\n"
      ],
      "metadata": {
        "colab": {
          "base_uri": "https://localhost:8080/"
        },
        "id": "lIQix5pptJYd",
        "outputId": "a4adf06c-9c6c-466f-b264-42a15ac41d34"
      },
      "execution_count": 65,
      "outputs": [
        {
          "output_type": "stream",
          "name": "stdout",
          "text": [
            "A probabilidade de saírem até 8 pessoas com doença cardíaca em 20 sorteios é: 0.12432473548273305\n",
            "A arredondando: 0.124\n"
          ]
        }
      ]
    },
    {
      "cell_type": "code",
      "source": [
        "# Questão 11\n",
        "\n",
        "fAbsoluta = dados['ChestPainType'].value_counts()\n",
        "print(f'Frequência absoluta: \\n{fAbsoluta}')\n",
        "\n",
        "fRelativa = dados['ChestPainType'].value_counts(normalize=True)\n"
      ],
      "metadata": {
        "colab": {
          "base_uri": "https://localhost:8080/"
        },
        "id": "PcvmptZJvR2g",
        "outputId": "325a2d15-2e03-4f0b-cd50-00ab071ab836"
      },
      "execution_count": 66,
      "outputs": [
        {
          "output_type": "stream",
          "name": "stdout",
          "text": [
            "Frequência absoluta: \n",
            "ChestPainType\n",
            "ASY    496\n",
            "NAP    203\n",
            "ATA    173\n",
            "TA      46\n",
            "Name: count, dtype: int64\n"
          ]
        }
      ]
    }
  ]
}